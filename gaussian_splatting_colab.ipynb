{
  "cells": [
    {
      "cell_type": "markdown",
      "metadata": {
        "id": "view-in-github",
        "colab_type": "text"
      },
      "source": [
        "<a href=\"https://colab.research.google.com/github/mitadake/Basics-of-Go/blob/main/gaussian_splatting_colab.ipynb\" target=\"_parent\"><img src=\"https://colab.research.google.com/assets/colab-badge.svg\" alt=\"Open In Colab\"/></a>"
      ]
    },
    {
      "cell_type": "code",
      "execution_count": 1,
      "metadata": {
        "id": "VjYy0F2gZIPR",
        "outputId": "9c03abff-7e92-4c7a-af2a-7e2b90773b6f",
        "colab": {
          "base_uri": "https://localhost:8080/"
        }
      },
      "outputs": [
        {
          "output_type": "stream",
          "name": "stdout",
          "text": [
            "/content\n",
            "Cloning into 'gaussian-splatting'...\n",
            "remote: Enumerating objects: 603, done.\u001b[K\n",
            "remote: Total 603 (delta 0), reused 0 (delta 0), pack-reused 603 (from 1)\u001b[K\n",
            "Receiving objects: 100% (603/603), 2.09 MiB | 24.34 MiB/s, done.\n",
            "Resolving deltas: 100% (347/347), done.\n",
            "Submodule 'SIBR_viewers' (https://gitlab.inria.fr/sibr/sibr_core) registered for path 'SIBR_viewers'\n",
            "Submodule 'submodules/diff-gaussian-rasterization' (https://github.com/graphdeco-inria/diff-gaussian-rasterization) registered for path 'submodules/diff-gaussian-rasterization'\n",
            "Submodule 'submodules/simple-knn' (https://gitlab.inria.fr/bkerbl/simple-knn.git) registered for path 'submodules/simple-knn'\n",
            "Cloning into '/content/gaussian-splatting/SIBR_viewers'...\n",
            "warning: redirecting to https://gitlab.inria.fr/sibr/sibr_core.git/\n",
            "remote: Enumerating objects: 3293, done.        \n",
            "remote: Counting objects: 100% (322/322), done.        \n",
            "remote: Compressing objects: 100% (174/174), done.        \n",
            "remote: Total 3293 (delta 171), reused 280 (delta 148), pack-reused 2971 (from 1)        \n",
            "Receiving objects: 100% (3293/3293), 9.98 MiB | 6.62 MiB/s, done.\n",
            "Resolving deltas: 100% (2039/2039), done.\n",
            "Cloning into '/content/gaussian-splatting/submodules/diff-gaussian-rasterization'...\n",
            "remote: Enumerating objects: 329, done.        \n",
            "remote: Total 329 (delta 0), reused 0 (delta 0), pack-reused 329 (from 1)        \n",
            "Receiving objects: 100% (329/329), 111.52 KiB | 15.93 MiB/s, done.\n",
            "Resolving deltas: 100% (217/217), done.\n",
            "Cloning into '/content/gaussian-splatting/submodules/simple-knn'...\n",
            "remote: Enumerating objects: 37, done.        \n",
            "remote: Counting objects: 100% (37/37), done.        \n",
            "remote: Compressing objects: 100% (34/34), done.        \n",
            "remote: Total 37 (delta 18), reused 0 (delta 0), pack-reused 0 (from 0)        \n",
            "Receiving objects: 100% (37/37), 9.46 KiB | 9.46 MiB/s, done.\n",
            "Resolving deltas: 100% (18/18), done.\n",
            "Submodule path 'SIBR_viewers': checked out '14199886ae3f42358092c16ada909c1e0b1cba20'\n",
            "Submodule path 'submodules/diff-gaussian-rasterization': checked out '8064f52ca233942bdec2d1a1451c026deedd320b'\n",
            "Submodule 'third_party/glm' (https://github.com/g-truc/glm.git) registered for path 'submodules/diff-gaussian-rasterization/third_party/glm'\n",
            "Cloning into '/content/gaussian-splatting/submodules/diff-gaussian-rasterization/third_party/glm'...\n",
            "remote: Enumerating objects: 60004, done.        \n",
            "remote: Counting objects: 100% (272/272), done.        \n",
            "remote: Compressing objects: 100% (140/140), done.        \n",
            "remote: Total 60004 (delta 199), reused 138 (delta 131), pack-reused 59732 (from 3)        \n",
            "Receiving objects: 100% (60004/60004), 71.40 MiB | 16.61 MiB/s, done.\n",
            "Resolving deltas: 100% (45432/45432), done.\n",
            "Submodule path 'submodules/diff-gaussian-rasterization/third_party/glm': checked out '5c46b9c07008ae65cb81ab79cd677ecc1934b903'\n",
            "Submodule path 'submodules/simple-knn': checked out '44f764299fa305faf6ec5ebd99939e0508331503'\n",
            "\u001b[2K     \u001b[90m━━━━━━━━━━━━━━━━━━━━━━━━━━━━━━━━━━━━━━━━\u001b[0m \u001b[32m43.3/43.3 kB\u001b[0m \u001b[31m3.4 MB/s\u001b[0m eta \u001b[36m0:00:00\u001b[0m\n",
            "\u001b[?25h"
          ]
        }
      ],
      "source": [
        "%cd /content\n",
        "!git clone --recursive https://github.com/camenduru/gaussian-splatting\n",
        "!pip install -q plyfile\n",
        "\n",
        "# !wget https://huggingface.co/camenduru/gaussian-splatting/resolve/main/GaussianViewTest.zip\n",
        "# !unzip GaussianViewTest.zip\n",
        "# !python render.py -m /content/gaussian-splatting/GaussianViewTest/model\n",
        "# !ffmpeg -framerate 3 -i /content/gaussian-splatting/GaussianViewTest/model/train/ours_30000/renders/%05d.png -vf \"pad=ceil(iw/2)*2:ceil(ih/2)*2\" -c:v libx264 -r 3 -pix_fmt yuv420p /content/renders.mp4\n",
        "# !ffmpeg -framerate 3 -i /content/gaussian-splatting/GaussianViewTest/model/train/ours_30000/gt/%05d.png -vf \"pad=ceil(iw/2)*2:ceil(ih/2)*2\" -c:v libx264 -r 3 -pix_fmt yuv420p /content/gt.mp4 -y"
      ]
    },
    {
      "cell_type": "code",
      "source": [
        "%cd /content/gaussian-splatting\n",
        "!pip install -q /content/gaussian-splatting/submodules/diff-gaussian-rasterization\n",
        "!pip install -q /content/gaussian-splatting/submodules/simple-knn\n"
      ],
      "metadata": {
        "id": "opjLyYdQYnOe",
        "outputId": "3fcbcb37-c45b-48b3-ee27-75a4a60fc05c",
        "colab": {
          "base_uri": "https://localhost:8080/"
        }
      },
      "execution_count": 2,
      "outputs": [
        {
          "output_type": "stream",
          "name": "stdout",
          "text": [
            "/content/gaussian-splatting\n",
            "  Preparing metadata (setup.py) ... \u001b[?25l\u001b[?25hdone\n",
            "  Building wheel for diff_gaussian_rasterization (setup.py) ... \u001b[?25l\u001b[?25hdone\n",
            "  Preparing metadata (setup.py) ... \u001b[?25l\u001b[?25hdone\n",
            "  \u001b[1;31merror\u001b[0m: \u001b[1msubprocess-exited-with-error\u001b[0m\n",
            "  \n",
            "  \u001b[31m×\u001b[0m \u001b[32mpython setup.py bdist_wheel\u001b[0m did not run successfully.\n",
            "  \u001b[31m│\u001b[0m exit code: \u001b[1;36m1\u001b[0m\n",
            "  \u001b[31m╰─>\u001b[0m See above for output.\n",
            "  \n",
            "  \u001b[1;35mnote\u001b[0m: This error originates from a subprocess, and is likely not a problem with pip.\n",
            "  Building wheel for simple_knn (setup.py) ... \u001b[?25lerror\n",
            "\u001b[31m  ERROR: Failed building wheel for simple_knn\u001b[0m\u001b[31m\n",
            "\u001b[0m\u001b[31mERROR: ERROR: Failed to build installable wheels for some pyproject.toml based projects (simple_knn)\u001b[0m\u001b[31m\n",
            "\u001b[0m\u001b[?25h"
          ]
        }
      ]
    },
    {
      "cell_type": "code",
      "source": [
        "import os\n",
        "\n",
        "# Navigate to gaussian-splatting\n",
        "%cd /content/gaussian-splatting\n",
        "\n",
        "# Fix the simple_knn.cu file by adding the missing header\n",
        "simple_knn_path = \"/content/gaussian-splatting/submodules/simple-knn/simple_knn.cu\"\n",
        "\n",
        "# Read the file\n",
        "with open(simple_knn_path, 'r') as f:\n",
        "    content = f.read()\n",
        "\n",
        "# Add #include <cfloat> at the top if not already there\n",
        "if '#include <cfloat>' not in content:\n",
        "    content = '#include <cfloat>\\n' + content\n",
        "    with open(simple_knn_path, 'w') as f:\n",
        "        f.write(content)\n",
        "    print(\"✓ Fixed simple_knn.cu\")\n",
        "\n",
        "# Now install\n",
        "!pip install ./submodules/simple-knn"
      ],
      "metadata": {
        "id": "m5eCV0sgbIsM",
        "outputId": "0142e70f-c79b-4284-8a8f-cb7592d73f4e",
        "colab": {
          "base_uri": "https://localhost:8080/"
        }
      },
      "execution_count": 2,
      "outputs": [
        {
          "output_type": "stream",
          "name": "stdout",
          "text": [
            "/content/gaussian-splatting\n",
            "Processing ./submodules/simple-knn\n",
            "  Preparing metadata (setup.py) ... \u001b[?25l\u001b[?25hdone\n",
            "Building wheels for collected packages: simple_knn\n",
            "\u001b[33m  DEPRECATION: Building 'simple_knn' using the legacy setup.py bdist_wheel mechanism, which will be removed in a future version. pip 25.3 will enforce this behaviour change. A possible replacement is to use the standardized build interface by setting the `--use-pep517` option, (possibly combined with `--no-build-isolation`), or adding a `pyproject.toml` file to the source tree of 'simple_knn'. Discussion can be found at https://github.com/pypa/pip/issues/6334\u001b[0m\u001b[33m\n",
            "\u001b[0m  Building wheel for simple_knn (setup.py) ... \u001b[?25l\u001b[?25hdone\n",
            "  Created wheel for simple_knn: filename=simple_knn-0.0.0-cp312-cp312-linux_x86_64.whl size=3209931 sha256=baa1e57c5643a295b94328bf62dc7e8c4659c966c866f5e12f1c50f58d0c90a4\n",
            "  Stored in directory: /root/.cache/pip/wheels/0a/f2/1b/255828ebad94ea248378281b7926639d83ce4f394f0052800d\n",
            "Successfully built simple_knn\n",
            "Installing collected packages: simple_knn\n",
            "Successfully installed simple_knn-0.0.0\n"
          ]
        }
      ]
    },
    {
      "cell_type": "code",
      "source": [
        "from google.colab import drive\n",
        "drive.mount('/content/drive')"
      ],
      "metadata": {
        "id": "EA5jDtTOgKpi",
        "outputId": "7f3e6dd5-a8f4-4638-cf64-5e31b6498f2c",
        "colab": {
          "base_uri": "https://localhost:8080/"
        }
      },
      "execution_count": 4,
      "outputs": [
        {
          "output_type": "stream",
          "name": "stdout",
          "text": [
            "Mounted at /content/drive\n"
          ]
        }
      ]
    },
    {
      "cell_type": "code",
      "source": [
        "# !wget https://huggingface.co/camenduru/gaussian-splatting/resolve/main/tandt_db.zip\n",
        "# !unzip tandt_db.zip\n",
        "\n",
        "!python train.py -s /content/drive/MyDrive/CSCI677/train_15_seq"
      ],
      "metadata": {
        "id": "3JtfmyZ0Y8-h",
        "outputId": "897b4e02-7fab-4b6a-89d1-b7d20ca06bfd",
        "colab": {
          "base_uri": "https://localhost:8080/"
        }
      },
      "execution_count": 5,
      "outputs": [
        {
          "output_type": "stream",
          "name": "stdout",
          "text": [
            "2025-10-07 02:31:36.711337: E external/local_xla/xla/stream_executor/cuda/cuda_fft.cc:467] Unable to register cuFFT factory: Attempting to register factory for plugin cuFFT when one has already been registered\n",
            "WARNING: All log messages before absl::InitializeLog() is called are written to STDERR\n",
            "E0000 00:00:1759804296.751893   10047 cuda_dnn.cc:8579] Unable to register cuDNN factory: Attempting to register factory for plugin cuDNN when one has already been registered\n",
            "E0000 00:00:1759804296.764238   10047 cuda_blas.cc:1407] Unable to register cuBLAS factory: Attempting to register factory for plugin cuBLAS when one has already been registered\n",
            "W0000 00:00:1759804296.794769   10047 computation_placer.cc:177] computation placer already registered. Please check linkage and avoid linking the same target more than once.\n",
            "W0000 00:00:1759804296.794803   10047 computation_placer.cc:177] computation placer already registered. Please check linkage and avoid linking the same target more than once.\n",
            "W0000 00:00:1759804296.794811   10047 computation_placer.cc:177] computation placer already registered. Please check linkage and avoid linking the same target more than once.\n",
            "W0000 00:00:1759804296.794818   10047 computation_placer.cc:177] computation placer already registered. Please check linkage and avoid linking the same target more than once.\n",
            "2025-10-07 02:31:36.801973: I tensorflow/core/platform/cpu_feature_guard.cc:210] This TensorFlow binary is optimized to use available CPU instructions in performance-critical operations.\n",
            "To enable the following instructions: AVX2 FMA, in other operations, rebuild TensorFlow with the appropriate compiler flags.\n",
            "Optimizing \n",
            "Output folder: ./output/f4fc8820-6 [07/10 02:31:41]\n",
            "Reading camera 15/15 [07/10 02:31:56]\n",
            "Converting point3d.bin to .ply, will happen only the first time you open the scene. [07/10 02:31:56]\n",
            "Loading Training Cameras [07/10 02:31:57]\n",
            "[ INFO ] Encountered quite large input images (>1.6K pixels width), rescaling to 1.6K.\n",
            " If this is not desired, please explicitly specify '--resolution/-r' as 1 [07/10 02:31:57]\n",
            "Loading Test Cameras [07/10 02:32:04]\n",
            "Number of points at initialisation :  6085 [07/10 02:32:04]\n",
            "Training progress:  23% 7000/30000 [15:04<1:10:20,  5.45it/s, Loss=0.0359760]\n",
            "[ITER 7000] Evaluating train: L1 0.020012690499424935 PSNR 29.685625457763674 [07/10 02:47:22]\n",
            "\n",
            "[ITER 7000] Saving Gaussians [07/10 02:47:23]\n",
            "Training progress: 100% 30000/30000 [1:31:48<00:00,  5.45it/s, Loss=0.0193271]\n",
            "\n",
            "[ITER 30000] Evaluating train: L1 0.012035176157951355 PSNR 34.1962631225586 [07/10 04:04:01]\n",
            "\n",
            "[ITER 30000] Saving Gaussians [07/10 04:04:01]\n",
            "\n",
            "Training complete. [07/10 04:04:37]\n"
          ]
        }
      ]
    },
    {
      "cell_type": "code",
      "source": [
        "!python render.py -m /content/gaussian-splatting/output/f4fc8820-6"
      ],
      "metadata": {
        "id": "ye6E4drjZBwZ",
        "outputId": "846d96bf-ab3d-493e-9a4f-79d76319ae77",
        "colab": {
          "base_uri": "https://localhost:8080/"
        }
      },
      "execution_count": 7,
      "outputs": [
        {
          "output_type": "stream",
          "name": "stdout",
          "text": [
            "Looking for config file in /content/gaussian-splatting/output/f4fc8820-6/cfg_args\n",
            "Config file found: /content/gaussian-splatting/output/f4fc8820-6/cfg_args\n",
            "Rendering /content/gaussian-splatting/output/f4fc8820-6\n",
            "Loading trained model at iteration 30000 [07/10 04:21:22]\n",
            "Reading camera 15/15 [07/10 04:21:23]\n",
            "Loading Training Cameras [07/10 04:21:23]\n",
            "[ INFO ] Encountered quite large input images (>1.6K pixels width), rescaling to 1.6K.\n",
            " If this is not desired, please explicitly specify '--resolution/-r' as 1 [07/10 04:21:23]\n",
            "Loading Test Cameras [07/10 04:21:30]\n",
            "Rendering progress: 100% 15/15 [00:19<00:00,  1.28s/it]\n",
            "Rendering progress: 0it [00:00, ?it/s]\n"
          ]
        }
      ]
    },
    {
      "cell_type": "code",
      "source": [
        "!ffmpeg -framerate 3 -i /content/gaussian-splatting/output/f4fc8820-6/train/ours_30000/renders/%05d.png -vf \"pad=ceil(iw/2)*2:ceil(ih/2)*2\" -c:v libx264 -r 3 -pix_fmt yuv420p /content/renders.mp4"
      ],
      "metadata": {
        "id": "sv4VX07I5rj5",
        "outputId": "e3b41c3a-37d0-4eb1-8b41-97b96473e1b3",
        "colab": {
          "base_uri": "https://localhost:8080/"
        }
      },
      "execution_count": 8,
      "outputs": [
        {
          "output_type": "stream",
          "name": "stdout",
          "text": [
            "ffmpeg version 4.4.2-0ubuntu0.22.04.1 Copyright (c) 2000-2021 the FFmpeg developers\n",
            "  built with gcc 11 (Ubuntu 11.2.0-19ubuntu1)\n",
            "  configuration: --prefix=/usr --extra-version=0ubuntu0.22.04.1 --toolchain=hardened --libdir=/usr/lib/x86_64-linux-gnu --incdir=/usr/include/x86_64-linux-gnu --arch=amd64 --enable-gpl --disable-stripping --enable-gnutls --enable-ladspa --enable-libaom --enable-libass --enable-libbluray --enable-libbs2b --enable-libcaca --enable-libcdio --enable-libcodec2 --enable-libdav1d --enable-libflite --enable-libfontconfig --enable-libfreetype --enable-libfribidi --enable-libgme --enable-libgsm --enable-libjack --enable-libmp3lame --enable-libmysofa --enable-libopenjpeg --enable-libopenmpt --enable-libopus --enable-libpulse --enable-librabbitmq --enable-librubberband --enable-libshine --enable-libsnappy --enable-libsoxr --enable-libspeex --enable-libsrt --enable-libssh --enable-libtheora --enable-libtwolame --enable-libvidstab --enable-libvorbis --enable-libvpx --enable-libwebp --enable-libx265 --enable-libxml2 --enable-libxvid --enable-libzimg --enable-libzmq --enable-libzvbi --enable-lv2 --enable-omx --enable-openal --enable-opencl --enable-opengl --enable-sdl2 --enable-pocketsphinx --enable-librsvg --enable-libmfx --enable-libdc1394 --enable-libdrm --enable-libiec61883 --enable-chromaprint --enable-frei0r --enable-libx264 --enable-shared\n",
            "  libavutil      56. 70.100 / 56. 70.100\n",
            "  libavcodec     58.134.100 / 58.134.100\n",
            "  libavformat    58. 76.100 / 58. 76.100\n",
            "  libavdevice    58. 13.100 / 58. 13.100\n",
            "  libavfilter     7.110.100 /  7.110.100\n",
            "  libswscale      5.  9.100 /  5.  9.100\n",
            "  libswresample   3.  9.100 /  3.  9.100\n",
            "  libpostproc    55.  9.100 / 55.  9.100\n",
            "Input #0, image2, from '/content/gaussian-splatting/output/f4fc8820-6/train/ours_30000/renders/%05d.png':\n",
            "  Duration: 00:00:05.00, start: 0.000000, bitrate: N/A\n",
            "  Stream #0:0: Video: png, rgb24(pc), 1600x1036, 3 fps, 3 tbr, 3 tbn, 3 tbc\n",
            "Stream mapping:\n",
            "  Stream #0:0 -> #0:0 (png (native) -> h264 (libx264))\n",
            "Press [q] to stop, [?] for help\n",
            "\u001b[1;36m[libx264 @ 0x5580bc4da480] \u001b[0musing cpu capabilities: MMX2 SSE2Fast SSSE3 SSE4.2 AVX FMA3 BMI2 AVX2\n",
            "\u001b[1;36m[libx264 @ 0x5580bc4da480] \u001b[0mprofile High, level 4.0, 4:2:0, 8-bit\n",
            "\u001b[1;36m[libx264 @ 0x5580bc4da480] \u001b[0m264 - core 163 r3060 5db6aa6 - H.264/MPEG-4 AVC codec - Copyleft 2003-2021 - http://www.videolan.org/x264.html - options: cabac=1 ref=3 deblock=1:0:0 analyse=0x3:0x113 me=hex subme=7 psy=1 psy_rd=1.00:0.00 mixed_ref=1 me_range=16 chroma_me=1 trellis=1 8x8dct=1 cqm=0 deadzone=21,11 fast_pskip=1 chroma_qp_offset=-2 threads=3 lookahead_threads=1 sliced_threads=0 nr=0 decimate=1 interlaced=0 bluray_compat=0 constrained_intra=0 bframes=3 b_pyramid=2 b_adapt=1 b_bias=0 direct=1 weightb=1 open_gop=0 weightp=2 keyint=250 keyint_min=3 scenecut=40 intra_refresh=0 rc_lookahead=40 rc=crf mbtree=1 crf=23.0 qcomp=0.60 qpmin=0 qpmax=69 qpstep=4 ip_ratio=1.40 aq=1:1.00\n",
            "Output #0, mp4, to '/content/renders.mp4':\n",
            "  Metadata:\n",
            "    encoder         : Lavf58.76.100\n",
            "  Stream #0:0: Video: h264 (avc1 / 0x31637661), yuv420p(tv, progressive), 1600x1036, q=2-31, 3 fps, 12288 tbn\n",
            "    Metadata:\n",
            "      encoder         : Lavc58.134.100 libx264\n",
            "    Side data:\n",
            "      cpb: bitrate max/min/avg: 0/0/0 buffer size: 0 vbv_delay: N/A\n",
            "frame=   15 fps=3.5 q=-1.0 Lsize=    5599kB time=00:00:04.00 bitrate=11467.0kbits/s speed=0.944x    \n",
            "video:5598kB audio:0kB subtitle:0kB other streams:0kB global headers:0kB muxing overhead: 0.018159%\n",
            "\u001b[1;36m[libx264 @ 0x5580bc4da480] \u001b[0mframe I:4     Avg QP:21.38  size:444484\n",
            "\u001b[1;36m[libx264 @ 0x5580bc4da480] \u001b[0mframe P:7     Avg QP:22.35  size:364968\n",
            "\u001b[1;36m[libx264 @ 0x5580bc4da480] \u001b[0mframe B:4     Avg QP:22.56  size:349788\n",
            "\u001b[1;36m[libx264 @ 0x5580bc4da480] \u001b[0mconsecutive B-frames: 60.0% 13.3%  0.0% 26.7%\n",
            "\u001b[1;36m[libx264 @ 0x5580bc4da480] \u001b[0mmb I  I16..4:  0.3% 52.9% 46.8%\n",
            "\u001b[1;36m[libx264 @ 0x5580bc4da480] \u001b[0mmb P  I16..4:  0.1% 43.6% 32.5%  P16..4:  2.5%  9.8% 11.5%  0.0%  0.0%    skip: 0.0%\n",
            "\u001b[1;36m[libx264 @ 0x5580bc4da480] \u001b[0mmb B  I16..4:  0.2% 23.2% 28.3%  B16..8:  3.9% 19.3% 23.3%  direct: 1.7%  skip: 0.1%  L0:53.8% L1:13.1% BI:33.1%\n",
            "\u001b[1;36m[libx264 @ 0x5580bc4da480] \u001b[0m8x8 transform intra:53.5% inter:50.0%\n",
            "\u001b[1;36m[libx264 @ 0x5580bc4da480] \u001b[0mcoded y,uvDC,uvAC intra: 99.4% 98.1% 89.1% inter: 93.0% 67.9% 18.1%\n",
            "\u001b[1;36m[libx264 @ 0x5580bc4da480] \u001b[0mi16 v,h,dc,p: 44% 22%  4% 30%\n",
            "\u001b[1;36m[libx264 @ 0x5580bc4da480] \u001b[0mi8 v,h,dc,ddl,ddr,vr,hd,vl,hu: 11% 20% 13%  7%  9%  6% 12%  8% 15%\n",
            "\u001b[1;36m[libx264 @ 0x5580bc4da480] \u001b[0mi4 v,h,dc,ddl,ddr,vr,hd,vl,hu: 13% 19%  9%  8% 10%  8% 12%  8% 14%\n",
            "\u001b[1;36m[libx264 @ 0x5580bc4da480] \u001b[0mi8c dc,h,v,p: 51% 24% 14% 11%\n",
            "\u001b[1;36m[libx264 @ 0x5580bc4da480] \u001b[0mWeighted P-Frames: Y:14.3% UV:14.3%\n",
            "\u001b[1;36m[libx264 @ 0x5580bc4da480] \u001b[0mref P L0: 53.4% 37.1%  9.2%  0.3%  0.0%\n",
            "\u001b[1;36m[libx264 @ 0x5580bc4da480] \u001b[0mref B L0: 99.4%  0.6%\n",
            "\u001b[1;36m[libx264 @ 0x5580bc4da480] \u001b[0mref B L1: 96.4%  3.6%\n",
            "\u001b[1;36m[libx264 @ 0x5580bc4da480] \u001b[0mkb/s:9170.99\n"
          ]
        }
      ]
    },
    {
      "cell_type": "code",
      "source": [
        "!ffmpeg -framerate 3 -i /content/gaussian-splatting/output/f4fc8820-6/train/ours_30000/gt/%05d.png -vf \"pad=ceil(iw/2)*2:ceil(ih/2)*2\" -c:v libx264 -r 3 -pix_fmt yuv420p /content/gt.mp4 -y"
      ],
      "metadata": {
        "id": "PLc_2OMw6UK7",
        "outputId": "54bd8c30-d6fd-47a3-e932-5f7e9a5fb7ac",
        "colab": {
          "base_uri": "https://localhost:8080/"
        }
      },
      "execution_count": 9,
      "outputs": [
        {
          "output_type": "stream",
          "name": "stdout",
          "text": [
            "ffmpeg version 4.4.2-0ubuntu0.22.04.1 Copyright (c) 2000-2021 the FFmpeg developers\n",
            "  built with gcc 11 (Ubuntu 11.2.0-19ubuntu1)\n",
            "  configuration: --prefix=/usr --extra-version=0ubuntu0.22.04.1 --toolchain=hardened --libdir=/usr/lib/x86_64-linux-gnu --incdir=/usr/include/x86_64-linux-gnu --arch=amd64 --enable-gpl --disable-stripping --enable-gnutls --enable-ladspa --enable-libaom --enable-libass --enable-libbluray --enable-libbs2b --enable-libcaca --enable-libcdio --enable-libcodec2 --enable-libdav1d --enable-libflite --enable-libfontconfig --enable-libfreetype --enable-libfribidi --enable-libgme --enable-libgsm --enable-libjack --enable-libmp3lame --enable-libmysofa --enable-libopenjpeg --enable-libopenmpt --enable-libopus --enable-libpulse --enable-librabbitmq --enable-librubberband --enable-libshine --enable-libsnappy --enable-libsoxr --enable-libspeex --enable-libsrt --enable-libssh --enable-libtheora --enable-libtwolame --enable-libvidstab --enable-libvorbis --enable-libvpx --enable-libwebp --enable-libx265 --enable-libxml2 --enable-libxvid --enable-libzimg --enable-libzmq --enable-libzvbi --enable-lv2 --enable-omx --enable-openal --enable-opencl --enable-opengl --enable-sdl2 --enable-pocketsphinx --enable-librsvg --enable-libmfx --enable-libdc1394 --enable-libdrm --enable-libiec61883 --enable-chromaprint --enable-frei0r --enable-libx264 --enable-shared\n",
            "  libavutil      56. 70.100 / 56. 70.100\n",
            "  libavcodec     58.134.100 / 58.134.100\n",
            "  libavformat    58. 76.100 / 58. 76.100\n",
            "  libavdevice    58. 13.100 / 58. 13.100\n",
            "  libavfilter     7.110.100 /  7.110.100\n",
            "  libswscale      5.  9.100 /  5.  9.100\n",
            "  libswresample   3.  9.100 /  3.  9.100\n",
            "  libpostproc    55.  9.100 / 55.  9.100\n",
            "Input #0, image2, from '/content/gaussian-splatting/output/f4fc8820-6/train/ours_30000/gt/%05d.png':\n",
            "  Duration: 00:00:05.00, start: 0.000000, bitrate: N/A\n",
            "  Stream #0:0: Video: png, rgb24(pc), 1600x1036, 3 fps, 3 tbr, 3 tbn, 3 tbc\n",
            "Stream mapping:\n",
            "  Stream #0:0 -> #0:0 (png (native) -> h264 (libx264))\n",
            "Press [q] to stop, [?] for help\n",
            "\u001b[1;36m[libx264 @ 0x585421c80480] \u001b[0musing cpu capabilities: MMX2 SSE2Fast SSSE3 SSE4.2 AVX FMA3 BMI2 AVX2\n",
            "\u001b[1;36m[libx264 @ 0x585421c80480] \u001b[0mprofile High, level 4.0, 4:2:0, 8-bit\n",
            "\u001b[1;36m[libx264 @ 0x585421c80480] \u001b[0m264 - core 163 r3060 5db6aa6 - H.264/MPEG-4 AVC codec - Copyleft 2003-2021 - http://www.videolan.org/x264.html - options: cabac=1 ref=3 deblock=1:0:0 analyse=0x3:0x113 me=hex subme=7 psy=1 psy_rd=1.00:0.00 mixed_ref=1 me_range=16 chroma_me=1 trellis=1 8x8dct=1 cqm=0 deadzone=21,11 fast_pskip=1 chroma_qp_offset=-2 threads=3 lookahead_threads=1 sliced_threads=0 nr=0 decimate=1 interlaced=0 bluray_compat=0 constrained_intra=0 bframes=3 b_pyramid=2 b_adapt=1 b_bias=0 direct=1 weightb=1 open_gop=0 weightp=2 keyint=250 keyint_min=3 scenecut=40 intra_refresh=0 rc_lookahead=40 rc=crf mbtree=1 crf=23.0 qcomp=0.60 qpmin=0 qpmax=69 qpstep=4 ip_ratio=1.40 aq=1:1.00\n",
            "Output #0, mp4, to '/content/gt.mp4':\n",
            "  Metadata:\n",
            "    encoder         : Lavf58.76.100\n",
            "  Stream #0:0: Video: h264 (avc1 / 0x31637661), yuv420p(tv, progressive), 1600x1036, q=2-31, 3 fps, 12288 tbn\n",
            "    Metadata:\n",
            "      encoder         : Lavc58.134.100 libx264\n",
            "    Side data:\n",
            "      cpb: bitrate max/min/avg: 0/0/0 buffer size: 0 vbv_delay: N/A\n",
            "frame=   15 fps=3.0 q=-1.0 Lsize=    6191kB time=00:00:04.00 bitrate=12679.7kbits/s speed=0.793x    \n",
            "video:6190kB audio:0kB subtitle:0kB other streams:0kB global headers:0kB muxing overhead: 0.016233%\n",
            "\u001b[1;36m[libx264 @ 0x585421c80480] \u001b[0mframe I:5     Avg QP:21.22  size:490859\n",
            "\u001b[1;36m[libx264 @ 0x585421c80480] \u001b[0mframe P:8     Avg QP:22.43  size:399321\n",
            "\u001b[1;36m[libx264 @ 0x585421c80480] \u001b[0mframe B:2     Avg QP:22.67  size:344698\n",
            "\u001b[1;36m[libx264 @ 0x585421c80480] \u001b[0mconsecutive B-frames: 73.3% 26.7%  0.0%  0.0%\n",
            "\u001b[1;36m[libx264 @ 0x585421c80480] \u001b[0mmb I  I16..4:  0.8% 49.5% 49.8%\n",
            "\u001b[1;36m[libx264 @ 0x585421c80480] \u001b[0mmb P  I16..4:  0.2% 41.6% 34.3%  P16..4:  2.3%  9.7% 11.9%  0.0%  0.0%    skip: 0.0%\n",
            "\u001b[1;36m[libx264 @ 0x585421c80480] \u001b[0mmb B  I16..4:  0.3% 17.2% 23.3%  B16..8:  4.3% 22.7% 30.1%  direct: 2.0%  skip: 0.2%  L0:61.5% L1: 9.1% BI:29.4%\n",
            "\u001b[1;36m[libx264 @ 0x585421c80480] \u001b[0m8x8 transform intra:51.6% inter:45.5%\n",
            "\u001b[1;36m[libx264 @ 0x585421c80480] \u001b[0mcoded y,uvDC,uvAC intra: 99.5% 98.5% 91.1% inter: 94.7% 75.4% 24.9%\n",
            "\u001b[1;36m[libx264 @ 0x585421c80480] \u001b[0mi16 v,h,dc,p: 25% 13% 31% 31%\n",
            "\u001b[1;36m[libx264 @ 0x585421c80480] \u001b[0mi8 v,h,dc,ddl,ddr,vr,hd,vl,hu: 11% 19% 14%  7%  9%  7% 12%  7% 15%\n",
            "\u001b[1;36m[libx264 @ 0x585421c80480] \u001b[0mi4 v,h,dc,ddl,ddr,vr,hd,vl,hu: 13% 18% 10%  8% 10%  8% 12%  8% 14%\n",
            "\u001b[1;36m[libx264 @ 0x585421c80480] \u001b[0mi8c dc,h,v,p: 53% 22% 14% 11%\n",
            "\u001b[1;36m[libx264 @ 0x585421c80480] \u001b[0mWeighted P-Frames: Y:37.5% UV:25.0%\n",
            "\u001b[1;36m[libx264 @ 0x585421c80480] \u001b[0mref P L0: 61.0% 24.9% 13.0%  1.0%\n",
            "\u001b[1;36m[libx264 @ 0x585421c80480] \u001b[0mkb/s:10141.22\n"
          ]
        }
      ]
    },
    {
      "cell_type": "code",
      "source": [],
      "metadata": {
        "id": "xkx3sg4m6snC"
      },
      "execution_count": null,
      "outputs": []
    }
  ],
  "metadata": {
    "accelerator": "GPU",
    "colab": {
      "gpuType": "T4",
      "provenance": [],
      "include_colab_link": true
    },
    "kernelspec": {
      "display_name": "Python 3",
      "name": "python3"
    },
    "language_info": {
      "name": "python"
    }
  },
  "nbformat": 4,
  "nbformat_minor": 0
}